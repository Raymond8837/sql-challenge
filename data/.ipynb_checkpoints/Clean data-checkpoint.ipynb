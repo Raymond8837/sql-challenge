{
 "cells": [
  {
   "cell_type": "code",
   "execution_count": 38,
   "id": "ff4bf8d4-0669-4b73-bd00-93e1db1c102b",
   "metadata": {},
   "outputs": [],
   "source": [
    "import pandas as pd"
   ]
  },
  {
   "cell_type": "code",
   "execution_count": 39,
   "id": "3ae8be4f-4214-4e83-8894-c152a2d2d323",
   "metadata": {},
   "outputs": [],
   "source": [
    "# Read each CSV file\n",
    "df_dept_emp = pd.read_csv('dept_emp.csv')\n",
    "df_dept_manager = pd.read_csv('dept_manager.csv')\n",
    "df_employees = pd.read_csv('employees.csv')\n",
    "df_salaries = pd.read_csv('salaries.csv')"
   ]
  },
  {
   "cell_type": "code",
   "execution_count": 40,
   "id": "afbb809d-0366-4b46-85b9-91123aec985c",
   "metadata": {},
   "outputs": [
    {
     "name": "stdout",
     "output_type": "stream",
     "text": [
      "Index(['emp_no', 'dept_no'], dtype='object')\n"
     ]
    }
   ],
   "source": [
    "print(df_dept_emp.columns)"
   ]
  },
  {
   "cell_type": "code",
   "execution_count": 41,
   "id": "a423a69f-bfa9-4b26-9679-3bb113ca588a",
   "metadata": {},
   "outputs": [],
   "source": [
    "df_dept_emp.columns = df_dept_emp.columns.str.strip()"
   ]
  },
  {
   "cell_type": "code",
   "execution_count": 42,
   "id": "8e1af826-d326-40c1-a71f-7a6c4a89271a",
   "metadata": {},
   "outputs": [
    {
     "name": "stdout",
     "output_type": "stream",
     "text": [
      "   emp_no dept_no\n",
      "0   10001    d005\n",
      "1   10002    d007\n",
      "2   10003    d004\n",
      "3   10004    d004\n",
      "4   10005    d003\n"
     ]
    }
   ],
   "source": [
    "print(df_dept_emp.head())"
   ]
  },
  {
   "cell_type": "code",
   "execution_count": 43,
   "id": "8f1a8f1f-d8f6-4f35-aec1-a9715b730afd",
   "metadata": {},
   "outputs": [
    {
     "name": "stdout",
     "output_type": "stream",
     "text": [
      "Index(['dept_no', 'emp_no'], dtype='object')\n"
     ]
    }
   ],
   "source": [
    "print(df_dept_manager.columns)"
   ]
  },
  {
   "cell_type": "code",
   "execution_count": 44,
   "id": "d973de5e-fe0b-4547-819d-792ca4cfc941",
   "metadata": {},
   "outputs": [],
   "source": [
    "df_dept_manager.columns = df_dept_manager.columns.str.strip()"
   ]
  },
  {
   "cell_type": "code",
   "execution_count": 45,
   "id": "3b8a1cc8-0ecb-4656-a9f4-ccdb8aaccc6f",
   "metadata": {},
   "outputs": [
    {
     "name": "stdout",
     "output_type": "stream",
     "text": [
      "  dept_no  emp_no\n",
      "0    d001  110022\n",
      "1    d001  110039\n",
      "2    d002  110085\n",
      "3    d002  110114\n",
      "4    d003  110183\n"
     ]
    }
   ],
   "source": [
    "print(df_dept_manager.head())"
   ]
  },
  {
   "cell_type": "code",
   "execution_count": 46,
   "id": "cf4a94c1-b2c6-44ad-8584-9eaf8e254b0f",
   "metadata": {},
   "outputs": [
    {
     "name": "stdout",
     "output_type": "stream",
     "text": [
      "Index(['emp_no', 'emp_title_id', 'birth_date', 'first_name', 'last_name',\n",
      "       'sex', 'hire_date'],\n",
      "      dtype='object')\n"
     ]
    }
   ],
   "source": [
    "print(df_employees.columns)"
   ]
  },
  {
   "cell_type": "code",
   "execution_count": 47,
   "id": "50511939-5dee-443a-a2ab-a52c750cf9c7",
   "metadata": {},
   "outputs": [],
   "source": [
    "df_employees.columns = df_employees.columns.str.strip()"
   ]
  },
  {
   "cell_type": "code",
   "execution_count": 48,
   "id": "4940f913-9a64-43e7-8448-8ec7b46ed877",
   "metadata": {},
   "outputs": [
    {
     "name": "stdout",
     "output_type": "stream",
     "text": [
      "   emp_no emp_title_id  birth_date  first_name  last_name sex   hire_date\n",
      "0  473302        s0001   7/25/1953    Hideyuki   Zallocco   M   4/28/1990\n",
      "1  475053        e0002  11/18/1954       Byong  Delgrande   F    9/7/1991\n",
      "2   57444        e0002   1/30/1958       Berry       Babb   F   3/21/1992\n",
      "3  421786        s0001   9/28/1957       Xiong   Verhoeff   M  11/26/1987\n",
      "4  282238        e0003  10/28/1952  Abdelkader    Baumann   F   1/18/1991\n"
     ]
    }
   ],
   "source": [
    "print(df_employees.head())"
   ]
  },
  {
   "cell_type": "code",
   "execution_count": 49,
   "id": "21a0b78c-3948-4fca-af2b-bcd5ed8e25b2",
   "metadata": {},
   "outputs": [
    {
     "name": "stdout",
     "output_type": "stream",
     "text": [
      "Index(['emp_no', 'salary'], dtype='object')\n"
     ]
    }
   ],
   "source": [
    "print(df_salaries.columns)"
   ]
  },
  {
   "cell_type": "code",
   "execution_count": 50,
   "id": "65ae322c-1931-44c5-af80-2bc3c4878b2c",
   "metadata": {},
   "outputs": [],
   "source": [
    "df_salaries.columns = df_salaries.columns.str.strip()"
   ]
  },
  {
   "cell_type": "code",
   "execution_count": 51,
   "id": "0050fadc-a2f1-447b-a6bb-22070cc88acb",
   "metadata": {},
   "outputs": [
    {
     "name": "stdout",
     "output_type": "stream",
     "text": [
      "   emp_no  salary\n",
      "0   10001   60117\n",
      "1   10002   65828\n",
      "2   10003   40006\n",
      "3   10004   40054\n",
      "4   10005   78228\n"
     ]
    }
   ],
   "source": [
    "print(df_salaries.head())"
   ]
  },
  {
   "cell_type": "code",
   "execution_count": 52,
   "id": "2cfc35c3-f426-4d49-8a2e-7838d441f018",
   "metadata": {},
   "outputs": [],
   "source": [
    "# Clean the data by dropping missing values\n",
    "df_dept_emp_cleaned = df_dept_emp.dropna()\n",
    "df_dept_manager_cleaned = df_dept_manager.dropna()\n",
    "df_employees_cleaned = df_employees.dropna()\n",
    "df_salaries_cleaned = df_salaries.dropna()"
   ]
  },
  {
   "cell_type": "code",
   "execution_count": 53,
   "id": "c9163c45-0882-421e-821f-d834b31e2abc",
   "metadata": {},
   "outputs": [],
   "source": [
    "# Convert 'emp_no' and 'salary' columns to integers where applicable\n",
    "df_dept_emp_cleaned['emp_no'] = pd.to_numeric(df_dept_emp_cleaned['emp_no'], errors='coerce').dropna().astype(int)\n",
    "df_dept_manager_cleaned['emp_no'] = pd.to_numeric(df_dept_manager_cleaned['emp_no'], errors='coerce').dropna().astype(int)\n",
    "df_employees_cleaned['emp_no'] = pd.to_numeric(df_employees_cleaned['emp_no'], errors='coerce').dropna().astype(int)\n",
    "df_salaries_cleaned['emp_no'] = pd.to_numeric(df_salaries_cleaned['emp_no'], errors='coerce').dropna().astype(int)\n",
    "df_salaries_cleaned['salary'] = pd.to_numeric(df_salaries_cleaned['salary'], errors='coerce').dropna().astype(int)\n"
   ]
  },
  {
   "cell_type": "code",
   "execution_count": 61,
   "id": "7525ba4d-5763-4937-881d-4ccee7eb8a06",
   "metadata": {},
   "outputs": [],
   "source": [
    "# Save the cleaned data back to new CSV files with ',' as separator\n",
    "df_dept_emp_cleaned.to_csv('dept_emp_cleaned.csv', index=False, sep=',', encoding='utf-8')\n",
    "df_dept_manager_cleaned.to_csv('dept_manager_cleaned.csv', index=False, sep=',', encoding='utf-8')\n",
    "df_employees_cleaned.to_csv('employees_cleaned.csv', index=False, sep=',', encoding='utf-8')\n",
    "df_salaries_cleaned.to_csv('salaries_cleaned.csv', index=False, sep=',', encoding='utf-8')\n"
   ]
  },
  {
   "cell_type": "code",
   "execution_count": 62,
   "id": "c5ef8207-a3a7-4451-a7f1-29ac3f003535",
   "metadata": {},
   "outputs": [],
   "source": [
    "# Save the cleaned data back to new CSV files\n",
    "df_dept_emp_cleaned.to_csv('dept_emp_cleaned.csv', index=False)\n",
    "df_dept_manager_cleaned.to_csv('dept_manager_cleaned.csv', index=False)\n",
    "df_employees_cleaned.to_csv('employees_cleaned.csv', index=False)\n",
    "df_salaries_cleaned.to_csv('salaries_cleaned.csv', index=False)"
   ]
  },
  {
   "cell_type": "code",
   "execution_count": 63,
   "id": "92c9f0a0-a5e1-42a2-9b5a-9ed617909131",
   "metadata": {},
   "outputs": [],
   "source": [
    "# Check for duplicates in the specified columns for each dataframe\n",
    "dept_emp_duplicates = df_dept_emp_cleaned[df_dept_emp_cleaned.duplicated(subset=['emp_no', 'dept_no'], keep=False)]\n",
    "dept_manager_duplicates = df_dept_manager_cleaned[df_dept_manager_cleaned.duplicated(subset=['emp_no', 'dept_no'], keep=False)]\n",
    "employees_duplicates = df_employees_cleaned[df_employees_cleaned.duplicated(subset=['emp_no'], keep=False)]\n",
    "salaries_duplicates = df_salaries_cleaned[df_salaries_cleaned.duplicated(subset=['emp_no'], keep=False)]"
   ]
  },
  {
   "cell_type": "code",
   "execution_count": 64,
   "id": "0a41b849-4bd2-4e02-98a7-c7844d069c2e",
   "metadata": {},
   "outputs": [
    {
     "name": "stdout",
     "output_type": "stream",
     "text": [
      "Empty DataFrame\n",
      "Columns: [emp_no, dept_no]\n",
      "Index: []\n"
     ]
    }
   ],
   "source": [
    "print(dept_emp_duplicates)"
   ]
  },
  {
   "cell_type": "code",
   "execution_count": 65,
   "id": "54d45abe-f781-405d-9048-cda522adf9ae",
   "metadata": {},
   "outputs": [
    {
     "name": "stdout",
     "output_type": "stream",
     "text": [
      "Empty DataFrame\n",
      "Columns: [dept_no, emp_no]\n",
      "Index: []\n"
     ]
    }
   ],
   "source": [
    "print(dept_manager_duplicates)"
   ]
  },
  {
   "cell_type": "code",
   "execution_count": 66,
   "id": "4a2a7cdc-aeb6-4db7-8804-bdaba32378ce",
   "metadata": {},
   "outputs": [
    {
     "name": "stdout",
     "output_type": "stream",
     "text": [
      "Empty DataFrame\n",
      "Columns: [emp_no, emp_title_id, birth_date, first_name, last_name, sex, hire_date]\n",
      "Index: []\n"
     ]
    }
   ],
   "source": [
    "print(employees_duplicates)"
   ]
  },
  {
   "cell_type": "code",
   "execution_count": 67,
   "id": "e86751b1-3c8e-4875-9044-73bfdd92daeb",
   "metadata": {},
   "outputs": [
    {
     "name": "stdout",
     "output_type": "stream",
     "text": [
      "Empty DataFrame\n",
      "Columns: [emp_no, salary]\n",
      "Index: []\n"
     ]
    }
   ],
   "source": [
    "print(salaries_duplicates)"
   ]
  },
  {
   "cell_type": "code",
   "execution_count": 69,
   "id": "568d5d49-b56c-4656-9e85-c004f4c1b199",
   "metadata": {},
   "outputs": [
    {
     "name": "stdout",
     "output_type": "stream",
     "text": [
      "emp_no      int64\n",
      "dept_no    object\n",
      "dtype: object\n",
      "emp_no    int64\n",
      "salary    int64\n",
      "dtype: object\n"
     ]
    }
   ],
   "source": [
    "print(df_dept_emp.dtypes)\n",
    "print(df_salaries.dtypes)"
   ]
  },
  {
   "cell_type": "code",
   "execution_count": 68,
   "id": "5b2a54a7-1ba2-42de-b659-1a409261c071",
   "metadata": {},
   "outputs": [
    {
     "name": "stdout",
     "output_type": "stream",
     "text": [
      "0         True\n",
      "1         True\n",
      "2         True\n",
      "3         True\n",
      "4         True\n",
      "          ... \n",
      "331598    True\n",
      "331599    True\n",
      "331600    True\n",
      "331601    True\n",
      "331602    True\n",
      "Name: emp_no, Length: 331603, dtype: bool\n"
     ]
    }
   ],
   "source": [
    "print(df_dept_emp_cleaned['emp_no'].apply(lambda x: isinstance(x, int)))\n"
   ]
  },
  {
   "cell_type": "code",
   "execution_count": null,
   "id": "fb83bc34-125a-4bed-8aa0-2a7aba7b1aae",
   "metadata": {},
   "outputs": [],
   "source": []
  }
 ],
 "metadata": {
  "kernelspec": {
   "display_name": "Python 3 (ipykernel)",
   "language": "python",
   "name": "python3"
  },
  "language_info": {
   "codemirror_mode": {
    "name": "ipython",
    "version": 3
   },
   "file_extension": ".py",
   "mimetype": "text/x-python",
   "name": "python",
   "nbconvert_exporter": "python",
   "pygments_lexer": "ipython3",
   "version": "3.11.7"
  }
 },
 "nbformat": 4,
 "nbformat_minor": 5
}
